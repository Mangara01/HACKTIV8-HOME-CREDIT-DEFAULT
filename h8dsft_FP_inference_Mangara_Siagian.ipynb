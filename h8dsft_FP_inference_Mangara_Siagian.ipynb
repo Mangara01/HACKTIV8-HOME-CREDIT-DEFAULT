{
 "cells": [
  {
   "cell_type": "markdown",
   "id": "b5ea7cef",
   "metadata": {},
   "source": [
    "## <font color='green'> i. Model Inference </font>"
   ]
  },
  {
   "cell_type": "code",
   "execution_count": 1,
   "id": "1f16aa97",
   "metadata": {},
   "outputs": [],
   "source": [
    "# Import Library yang digunakan\n",
    "import sqlite3\n",
    "import pandas as pd\n",
    "from sklearn.preprocessing import LabelEncoder\n",
    "import joblib"
   ]
  },
  {
   "cell_type": "code",
   "execution_count": 2,
   "id": "22e40f33",
   "metadata": {},
   "outputs": [],
   "source": [
    "# Import data yang diolah\n",
    "data_fp8 = pd.read_csv(r'C:\\Users\\MANGARA HAPOSAN\\Downloads\\home-credit-default-risk\\application_test.csv')"
   ]
  },
  {
   "cell_type": "markdown",
   "id": "d7320a8d",
   "metadata": {},
   "source": [
    "### Melakukan Penggabungan Tabel menggunakan Query SQL"
   ]
  },
  {
   "cell_type": "code",
   "execution_count": 3,
   "id": "5e0ba1e3",
   "metadata": {},
   "outputs": [],
   "source": [
    "# Buat database SQLite dan buat koneksi\n",
    "conn = sqlite3.connect('database.db')"
   ]
  },
  {
   "cell_type": "markdown",
   "id": "3ccb2e7a",
   "metadata": {},
   "source": [
    "### Simpan DataFrames dalam database\n",
    "* data_fp8.to_sql('table8', conn, index=False)"
   ]
  },
  {
   "cell_type": "code",
   "execution_count": 4,
   "id": "07d1fb9f",
   "metadata": {},
   "outputs": [],
   "source": [
    "# Lakukan operasi SQL\n",
    "query = '''\n",
    "SELECT\n",
    "table8.SK_ID_CURR,\n",
    "table8.NAME_CONTRACT_TYPE,\n",
    "table8.CODE_GENDER,\n",
    "table8.NAME_EDUCATION_TYPE,\n",
    "table8.NAME_FAMILY_STATUS,\n",
    "table8.NAME_HOUSING_TYPE,\n",
    "table8.OCCUPATION_TYPE,\n",
    "table8.NAME_INCOME_TYPE,\n",
    "table8.NAME_TYPE_SUITE,\n",
    "table8.ORGANIZATION_TYPE,\n",
    "table8.HOUSETYPE_MODE,\n",
    "table2.CREDIT_ACTIVE,                  \n",
    "table2.DAYS_CREDIT,                     \n",
    "table2.DAYS_CREDIT_ENDDATE,     \n",
    "table2.DAYS_ENDDATE_FACT,       \n",
    "table2.AMT_CREDIT_MAX_OVERDUE,        \n",
    "table2.AMT_CREDIT_SUM,          \n",
    "table2.CREDIT_TYPE,              \n",
    "table2.DAYS_CREDIT_UPDATE,                                                  \n",
    "table6.AMT_APPLICATION,                         \n",
    "table6.NAME_PAYMENT_TYPE,                      \n",
    "table6.NAME_GOODS_CATEGORY,          \n",
    "table6.NAME_PORTFOLIO,                \n",
    "table6.NAME_PRODUCT_TYPE,                       \n",
    "table6.NAME_YIELD_GROUP,              \n",
    "table6.PRODUCT_COMBINATION,               \n",
    "table7.DAYS_INSTALMENT,         \n",
    "table7.DAYS_ENTRY_PAYMENT,     \n",
    "table7.AMT_INSTALMENT,          \n",
    "table7.AMT_PAYMENT             \n",
    "FROM table8\n",
    "LEFT JOIN table2 \n",
    "ON table8.SK_ID_CURR = table2.SK_ID_CURR\n",
    "LEFT JOIN table6 \n",
    "ON table8.SK_ID_CURR = table6.SK_ID_CURR\n",
    "LEFT JOIN table7\n",
    "ON table6.SK_ID_PREV = table7.SK_ID_PREV\n",
    "LIMIT 1000000\n",
    "'''\n",
    "data_fp = pd.read_sql_query(query, conn)"
   ]
  },
  {
   "cell_type": "code",
   "execution_count": 5,
   "id": "d15a667b",
   "metadata": {},
   "outputs": [],
   "source": [
    "# Tutup koneksi database\n",
    "conn.close()"
   ]
  },
  {
   "cell_type": "markdown",
   "id": "a0e99bc1",
   "metadata": {},
   "source": [
    "### Loading Model"
   ]
  },
  {
   "cell_type": "code",
   "execution_count": 6,
   "id": "8d32d700",
   "metadata": {},
   "outputs": [],
   "source": [
    "# Proses penggunaan model\n",
    "with open('model_rf.pkl', 'rb') as file_1:\n",
    "  model_rf = joblib.load(file_1)\n",
    "with open('final_fitur.joblib', 'rb') as file_2:\n",
    "  final_fitur = joblib.load(file_2)"
   ]
  },
  {
   "cell_type": "markdown",
   "id": "9149044f",
   "metadata": {},
   "source": [
    "**UJI COBA DATA BARU**"
   ]
  },
  {
   "cell_type": "code",
   "execution_count": 7,
   "id": "f2c89a2b",
   "metadata": {},
   "outputs": [],
   "source": [
    "# Membuat fungsi Encoding\n",
    "def transform_categorical_data(data):\n",
    "    le = LabelEncoder()\n",
    "    transformed_data = data.copy()\n",
    "    categorical_columns = transformed_data.select_dtypes(include=['object']).columns\n",
    "    \n",
    "    for column in categorical_columns:\n",
    "        transformed_data[column] = le.fit_transform(transformed_data[column])\n",
    "    \n",
    "    return transformed_data\n",
    "\n",
    "data_x_new = transform_categorical_data(data_fp)"
   ]
  },
  {
   "cell_type": "code",
   "execution_count": 8,
   "id": "76d6394e",
   "metadata": {},
   "outputs": [],
   "source": [
    "# Penyesuaian data berdasarkan fitur\n",
    "data_x_new = data_x_new[final_fitur]"
   ]
  },
  {
   "cell_type": "code",
   "execution_count": 9,
   "id": "4479ee4d",
   "metadata": {},
   "outputs": [
    {
     "name": "stdout",
     "output_type": "stream",
     "text": [
      "Prediksi : [0 0 0 ... 0 0 0]\n"
     ]
    }
   ],
   "source": [
    "# Hasil uji coba menggunakan Pemodelan Random Forest\n",
    "data_y_pred = model_rf.predict(data_x_new)\n",
    "print('Prediksi :',data_y_pred)"
   ]
  }
 ],
 "metadata": {
  "kernelspec": {
   "display_name": "Python 3 (ipykernel)",
   "language": "python",
   "name": "python3"
  },
  "language_info": {
   "codemirror_mode": {
    "name": "ipython",
    "version": 3
   },
   "file_extension": ".py",
   "mimetype": "text/x-python",
   "name": "python",
   "nbconvert_exporter": "python",
   "pygments_lexer": "ipython3",
   "version": "3.10.11"
  }
 },
 "nbformat": 4,
 "nbformat_minor": 5
}
